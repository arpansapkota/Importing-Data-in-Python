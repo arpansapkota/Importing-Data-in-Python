{
 "cells": [
  {
   "cell_type": "markdown",
   "id": "63c883a8",
   "metadata": {},
   "source": [
    "# Importing Data in Python"
   ]
  },
  {
   "cell_type": "markdown",
   "id": "6775596e",
   "metadata": {},
   "source": [
    "Doing any data-related operations in Python, such as data cleansing, data aggregation, data transformation, and data visualisation, First we have to load data into Python. Depends on the types of data files (e.g. .csv, .txt, .tsv, .html, .json, Excel spreadsheets, relational databases etc.) and their size, different methods should be applied to deal with this initial operation accordingly. Some common methods for importing data in Python are discussed here."
   ]
  },
  {
   "cell_type": "markdown",
   "id": "abfac8c6",
   "metadata": {},
   "source": [
    "1. Python build-in functions (read(), readline(), and readlines())"
   ]
  },
  {
   "cell_type": "markdown",
   "id": "158d640f",
   "metadata": {},
   "source": [
    "In general, a text file (.txt) is the most common file we will deal with. Text files are structured as a sequence of lines, where each line includes a sequence of characters. Let’s assume we need to import in Python the following text file (sample.txt)."
   ]
  },
  {
   "cell_type": "markdown",
   "id": "992909f6",
   "metadata": {},
   "source": [
    "To import its content to Python, we need to first open it. This step is just like double-clicking a file to open it in our computer system. However, in Python, this is done by calling the open() built-in function. open() has a required argument that is the path to the file and an optional argument to indicate the mode (i.e. default argument ‘r’: open for reading; ‘w’: open for writing). With those set, open() then returns us a file object.\n"
   ]
  },
  {
   "cell_type": "markdown",
   "id": "d11384eb",
   "metadata": {},
   "source": [
    "There are three methods to read content (i.e. read(), readline(), and readlines()) that can be called on this file object either by one or in combination."
   ]
  },
  {
   "cell_type": "markdown",
   "id": "df40f08c",
   "metadata": {},
   "source": [
    "- read(size=-1): this reads from the file based on the number of size bytes. If no argument is passed or None or -1 is passed, then the entire file is read."
   ]
  },
  {
   "cell_type": "markdown",
   "id": "90c46f37",
   "metadata": {},
   "source": [
    "- readline(size=-1): this reads the entire line if no arguments are passed or None or -1 is passed. Or if passed with size, this reads the size number of characters from the line. Moreover, multiple readline() functions can be called sequentially, in which the next readline() function will continue from the end position of last readline() function. Note that output of the third readline() appends an extra newline character(\\n, displayed as a new line). This can be avoided by using print(reader.readline(5), end=’’)."
   ]
  },
  {
   "cell_type": "markdown",
   "id": "db4225a4",
   "metadata": {},
   "source": [
    "- readlines(): this reads all the lines or remaining lines from the file object and returns them as a list"
   ]
  },
  {
   "cell_type": "code",
   "execution_count": 2,
   "id": "dfb34682",
   "metadata": {},
   "outputs": [
    {
     "name": "stdout",
     "output_type": "stream",
     "text": [
      "Mainland China\n",
      "Japan\n",
      "Singapore\n",
      "Hong Kong\n",
      "Japan\n",
      "Thailand\n",
      "South Korea\n",
      "Malaysia\n",
      "Taiwan\n",
      "Germany\n",
      "Vietnam\n",
      "France\n",
      "Macau\n",
      "UK\n",
      "United Arab Emirates\n",
      "US\n",
      "Australia\n"
     ]
    }
   ],
   "source": [
    "file = open(\"sample.txt\")\n",
    "data = file.read()\n",
    "print(data)\n",
    "file.close()\n"
   ]
  },
  {
   "cell_type": "markdown",
   "id": "924b7957",
   "metadata": {},
   "source": [
    "As it is very easy to forget to close the file, we should always use with statement. This also provides better syntax and exceptions handling."
   ]
  },
  {
   "cell_type": "markdown",
   "id": "4d773d6e",
   "metadata": {},
   "source": [
    "2. Python csv library"
   ]
  },
  {
   "cell_type": "markdown",
   "id": "ea1f3ce0",
   "metadata": {},
   "source": [
    "The sample.txt we just processed had only one field per line, which make it handy to process using just build-in function (read(), readline(), and readlines()). However, more frequently we will work with a file that has multiple fields on each line (aka tabular data)"
   ]
  },
  {
   "cell_type": "markdown",
   "id": "aadf5732",
   "metadata": {},
   "source": [
    "As we can see that every field on each line is comma-separated, indicating where one field ends and the next field starts. We call this type of file the delimited file. These files are often either comma-separated (.csv)or tab-separated (.tsv or .txt). In rare cases, you may also encounter other delimiters like colon (:), semi-colon (;), and characters.\n",
    "\n",
    "Even though the build-in function can still process these files, it is highly likely to mess up, especially when there are hundreds of fileds per line in some cases. Alternatively, we can use Python’s csv library designed to read delimited files. Here let’s learn two common functions from this module."
   ]
  },
  {
   "cell_type": "markdown",
   "id": "f4fd5a71",
   "metadata": {},
   "source": [
    "- csv.reader(): this reads all lines in the given file and returns a reader object. Then each line can be returned as a list of strings."
   ]
  },
  {
   "cell_type": "markdown",
   "id": "2f671afd",
   "metadata": {},
   "source": [
    "- csv.DictReader(): if the file has headers (normally the first row that identifies each filed of data), this function reads each line as a dict with the headers as keys. We then can access data of each column by calling its fieldname"
   ]
  },
  {
   "cell_type": "code",
   "execution_count": 4,
   "id": "2fee58f6",
   "metadata": {},
   "outputs": [
    {
     "name": "stdout",
     "output_type": "stream",
     "text": [
      "['Sell', ' \"List\"', ' \"Living\"', ' \"Rooms\"', ' \"Beds\"', ' \"Baths\"', ' \"Age\"', ' \"Acres\"', ' \"Taxes\"']\n",
      "['142', ' 160', ' 28', ' 10', ' 5', ' 3', '  60', ' 0.28', '  3167']\n",
      "['175', ' 180', ' 18', '  8', ' 4', ' 1', '  12', ' 0.43', '  4033']\n",
      "['129', ' 132', ' 13', '  6', ' 3', ' 1', '  41', ' 0.33', '  1471']\n",
      "['138', ' 140', ' 17', '  7', ' 3', ' 1', '  22', ' 0.46', '  3204']\n",
      "['232', ' 240', ' 25', '  8', ' 4', ' 3', '   5', ' 2.05', '  3613']\n",
      "['135', ' 140', ' 18', '  7', ' 4', ' 3', '   9', ' 0.57', '  3028']\n",
      "['150', ' 160', ' 20', '  8', ' 4', ' 3', '  18', ' 4.00', '  3131']\n",
      "['207', ' 225', ' 22', '  8', ' 4', ' 2', '  16', ' 2.22', '  5158']\n",
      "['271', ' 285', ' 30', ' 10', ' 5', ' 2', '  30', ' 0.53', '  5702']\n",
      "[' 89', '  90', ' 10', '  5', ' 3', ' 1', '  43', ' 0.30', '  2054']\n",
      "['153', ' 157', ' 22', '  8', ' 3', ' 3', '  18', ' 0.38', '  4127']\n",
      "[' 87', '  90', ' 16', '  7', ' 3', ' 1', '  50', ' 0.65', '  1445']\n",
      "['234', ' 238', ' 25', '  8', ' 4', ' 2', '   2', ' 1.61', '  2087']\n",
      "['106', ' 116', ' 20', '  8', ' 4', ' 1', '  13', ' 0.22', '  2818']\n",
      "['175', ' 180', ' 22', '  8', ' 4', ' 2', '  15', ' 2.06', '  3917']\n",
      "['165', ' 170', ' 17', '  8', ' 4', ' 2', '  33', ' 0.46', '  2220']\n",
      "['166', ' 170', ' 23', '  9', ' 4', ' 2', '  37', ' 0.27', '  3498']\n",
      "['136', ' 140', ' 19', '  7', ' 3', ' 1', '  22', ' 0.63', '  3607']\n",
      "['148', ' 160', ' 17', '  7', ' 3', ' 2', '  13', ' 0.36', '  3648']\n",
      "['151', ' 153', ' 19', '  8', ' 4', ' 2', '  24', ' 0.34', '  3561']\n",
      "['180', ' 190', ' 24', '  9', ' 4', ' 2', '  10', ' 1.55', '  4681']\n",
      "['293', ' 305', ' 26', '  8', ' 4', ' 3', '   6', ' 0.46', '  7088']\n",
      "['167', ' 170', ' 20', '  9', ' 4', ' 2', '  46', ' 0.46', '  3482']\n",
      "['190', ' 193', ' 22', '  9', ' 5', ' 2', '  37', ' 0.48', '  3920']\n",
      "['184', ' 190', ' 21', '  9', ' 5', ' 2', '  27', ' 1.30', '  4162']\n",
      "['157', ' 165', ' 20', '  8', ' 4', ' 2', '   7', ' 0.30', '  3785']\n",
      "['110', ' 115', ' 16', '  8', ' 4', ' 1', '  26', ' 0.29', '  3103']\n",
      "['135', ' 145', ' 18', '  7', ' 4', ' 1', '  35', ' 0.43', '  3363']\n",
      "['567', ' 625', ' 64', ' 11', ' 4', ' 4', '   4', ' 0.85', ' 12192']\n",
      "['180', ' 185', ' 20', '  8', ' 4', ' 2', '  11', ' 1.00', '  3831']\n",
      "['183', ' 188', ' 17', '  7', ' 3', ' 2', '  16', ' 3.00', '  3564']\n",
      "['185', ' 193', ' 20', '  9', ' 3', ' 2', '  56', ' 6.49', '  3765']\n",
      "['152', ' 155', ' 17', '  8', ' 4', ' 1', '  33', ' 0.70', '  3361']\n",
      "['148', ' 153', ' 13', '  6', ' 3', ' 2', '  22', ' 0.39', '  3950']\n",
      "['152', ' 159', ' 15', '  7', ' 3', ' 1', '  25', ' 0.59', '  3055']\n",
      "['146', ' 150', ' 16', '  7', ' 3', ' 1', '  31', ' 0.36', '  2950']\n",
      "['170', ' 190', ' 24', ' 10', ' 3', ' 2', '  33', ' 0.57', '  3346']\n",
      "['127', ' 130', ' 20', '  8', ' 4', ' 1', '  65', ' 0.40', '  3334']\n",
      "['265', ' 270', ' 36', ' 10', ' 6', ' 3', '  33', ' 1.20', '  5853']\n",
      "['157', ' 163', ' 18', '  8', ' 4', ' 2', '  12', ' 1.13', '  3982']\n",
      "['128', ' 135', ' 17', '  9', ' 4', ' 1', '  25', ' 0.52', '  3374']\n",
      "['110', ' 120', ' 15', '  8', ' 4', ' 2', '  11', ' 0.59', '  3119']\n",
      "['123', ' 130', ' 18', '  8', ' 4', ' 2', '  43', ' 0.39', '  3268']\n",
      "['212', ' 230', ' 39', ' 12', ' 5', ' 3', ' 202', ' 4.29', '  3648']\n",
      "['145', ' 145', ' 18', '  8', ' 4', ' 2', '  44', ' 0.22', '  2783']\n",
      "['129', ' 135', ' 10', '  6', ' 3', ' 1', '  15', ' 1.00', '  2438']\n",
      "['143', ' 145', ' 21', '  7', ' 4', ' 2', '  10', ' 1.20', '  3529']\n",
      "['247', ' 252', ' 29', '  9', ' 4', ' 2', '   4', ' 1.25', '  4626']\n",
      "['111', ' 120', ' 15', '  8', ' 3', ' 1', '  97', ' 1.11', '  3205']\n",
      "['133', ' 145', ' 26', '  7', ' 3', ' 1', '  42', ' 0.36', '  3059']\n",
      "[' ']\n"
     ]
    }
   ],
   "source": [
    "import csv\n",
    "\n",
    "with open(\"Sample.csv\",'r') as samfile:\n",
    "    rows=csv.reader(samfile,delimiter=',')\n",
    "    for r in rows:\n",
    "        print(r)"
   ]
  },
  {
   "cell_type": "markdown",
   "id": "285135f2",
   "metadata": {},
   "source": [
    "3. Import data using Pandas"
   ]
  },
  {
   "cell_type": "markdown",
   "id": "5b85510b",
   "metadata": {},
   "source": [
    "Another very popular option in importing data in Python must go to Pandas, especially when the data size is big (like several hundred MBs). We won’t delve into the specifics of how pandas works or how to use it. There are many excellent tutorials and books (e.g. Python for Data Analysis, by Wes McKinney, creator of pandas). Here we just show some of the power of pandas in reading csv and excel files."
   ]
  },
  {
   "cell_type": "markdown",
   "id": "94ec1f5f",
   "metadata": {},
   "source": [
    "- pd.read_csv(): this reads a csv file into DataFrame object. An important point here is that pandas is smart enough to automatically tell the header row and data type of each field, which make the downstream analyse more efficient."
   ]
  },
  {
   "cell_type": "markdown",
   "id": "f88e828f",
   "metadata": {},
   "source": [
    "- pd.read_excel(): this reads an excel file (.xls, .xlsx, .xlsm, .xlsb, and .odf file extensions) into a pandas DataFrame. By default, it only import the first data sheet within the excel file (sample.xlsx has multiple sheets)"
   ]
  },
  {
   "cell_type": "markdown",
   "id": "088528e0",
   "metadata": {},
   "source": [
    "To be able to access a specific sheet within the excel file, we can first import the whole excel file using pd.ExcelFile() and then specify the sheet name when calling pd.read_excel()\n",
    "\n",
    "Moreover, to be handier in accessing all sheets, instead of calling pd.read_excel() multiple times, we can store all sheets as dataframe objects inside a dict "
   ]
  },
  {
   "cell_type": "code",
   "execution_count": 9,
   "id": "3fc92c2e",
   "metadata": {},
   "outputs": [
    {
     "name": "stdout",
     "output_type": "stream",
     "text": [
      "<pandas.io.excel._base.ExcelFile object at 0x7fab92d66400>\n"
     ]
    }
   ],
   "source": [
    "import pandas as pd\n",
    "\n",
    "df = pd.ExcelFile('Sample.xlsx')\n",
    "print(df)"
   ]
  },
  {
   "cell_type": "code",
   "execution_count": null,
   "id": "c5554c1e",
   "metadata": {},
   "outputs": [],
   "source": []
  }
 ],
 "metadata": {
  "kernelspec": {
   "display_name": "Python 3 (ipykernel)",
   "language": "python",
   "name": "python3"
  },
  "language_info": {
   "codemirror_mode": {
    "name": "ipython",
    "version": 3
   },
   "file_extension": ".py",
   "mimetype": "text/x-python",
   "name": "python",
   "nbconvert_exporter": "python",
   "pygments_lexer": "ipython3",
   "version": "3.9.4"
  }
 },
 "nbformat": 4,
 "nbformat_minor": 5
}
